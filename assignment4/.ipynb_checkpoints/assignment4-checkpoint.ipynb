{
 "cells": [
  {
   "cell_type": "code",
   "execution_count": null,
   "metadata": {
    "deletable": false,
    "editable": false,
    "nbgrader": {
     "checksum": "652b34fa731ca066f77d84de43b609bc",
     "grade": false,
     "grade_id": "cell-c18d184342185ba6",
     "locked": true,
     "schema_version": 1,
     "solution": false
    }
   },
   "outputs": [],
   "source": [
    "version = \"REPLACE_PACKAGE_VERSION\""
   ]
  },
  {
   "cell_type": "markdown",
   "metadata": {
    "deletable": false,
    "editable": false,
    "nbgrader": {
     "checksum": "21bfa3b09f86b7961ec0f8b79c8ec113",
     "grade": false,
     "grade_id": "cell-371f2ff64fb68763",
     "locked": true,
     "schema_version": 1,
     "solution": false
    }
   },
   "source": [
    "# Assignment 4 - Tree-based classification; Synthesis Project\n",
    "\n",
    "This assignment has two parts: the first part reviews tree-based classification, and the second part is a synthesis project."
   ]
  },
  {
   "cell_type": "code",
   "execution_count": null,
   "metadata": {
    "deletable": false,
    "editable": false,
    "nbgrader": {
     "checksum": "328bb280e74981b355d8c6986e427c5b",
     "grade": false,
     "grade_id": "cell-93298b856670623e",
     "locked": true,
     "schema_version": 1,
     "solution": false
    }
   },
   "outputs": [],
   "source": [
    "# import some necessary libraries\n",
    "import numpy as np\n",
    "import pandas as pd\n",
    "import matplotlib.pyplot as plt\n",
    "\n",
    "from sklearn import tree\n",
    "from sklearn.model_selection import GridSearchCV\n",
    "from sklearn.metrics import classification_report\n",
    "\n",
    "# Suppress all warnings\n",
    "import warnings\n",
    "warnings.filterwarnings('ignore')"
   ]
  },
  {
   "cell_type": "markdown",
   "metadata": {
    "deletable": false,
    "editable": false,
    "nbgrader": {
     "checksum": "42cac3a62705a3f6de738f8e156281bc",
     "grade": false,
     "grade_id": "cell-5fdf96c3a95094fd",
     "locked": true,
     "schema_version": 1,
     "solution": false
    }
   },
   "source": [
    "## Part 1: Classification. Predicting landscape types from satellite data.\n",
    "\n",
    "Machine learning is being used increasingly to help fight climate change and promote sustainable land use. For this section of the assignment we will be working with a dataset derived from geospatial data, and our classification goal will be to predict the type of landscape visible by satellite. With an accurate classifier, we could monitor changes in land use and characteristics over time on a global scale.\n",
    "\n",
    "Summary of the dataset: \"The dataset is derived from two sources: 1) Landsat time-series satellite imagery from the years 2014-2015, and 2) crowdsourced georeferenced polygons with land cover labels obtained from OpenStreetMap. The crowdsourced polygons cover only a small part of the image area, and are used to extract training data from the image for classifying the rest of the image. The main challenge with the dataset is that both the imagery and the crowdsourced data contain noise (due to cloud cover in the images and inaccurate labeling/digitizing of polygons).\n",
    "\n",
    "The 'landsat_training.csv' file contains the training data for classification. Do not use this file to evaluate classification accuracy because it contains noise (many class labeling errors).\n",
    "\n",
    "The 'landsat_testing.csv' file contains testing data to evaluate the classification accuracy. Do not use this file to train the classifier. This file does not contain any class labeling errors.\n",
    "\n",
    "Attribute Information (columns):\n",
    "\n",
    "`class`: The land cover class (impervious, farm, forest, grass, orchard, water) **Note: this is the target variable to classify.**\n",
    "\n",
    "`max_ndvi`: the maximum NDVI (normalized difference vegetation index) value derived from the time-series of satellite images.\n",
    "\n",
    "`20150720_N - 20140101_N` : NDVI values extracted from satellite images acquired between January 2014 and July 2015, in reverse chronological order (dates given in the format yyyymmdd).\"\n",
    "\n",
    "This is a multi-class classification problem with six classes. Thus, you will want to examine both micro- and macro-averaged evaluation scores across all six classes, e.g. to see if there are landscape types that are more difficult than others to classify correctly.\n"
   ]
  },
  {
   "cell_type": "markdown",
   "metadata": {
    "deletable": false,
    "editable": false,
    "nbgrader": {
     "checksum": "b0631d70ea04a54b34dbb5cf16b20f22",
     "grade": false,
     "grade_id": "cell-c7c0b15f31c73274",
     "locked": true,
     "schema_version": 1,
     "solution": false
    }
   },
   "source": [
    "Use the following code to read in the data files. Note that we convert the strings giving the landscape types (the \"class\" column to be predicted) to numeric labels using `LabelEncoder`."
   ]
  },
  {
   "cell_type": "code",
   "execution_count": null,
   "metadata": {},
   "outputs": [],
   "source": [
    "df_train = pd.read_csv('assets/landsat_training.csv')\n",
    "df_test  = pd.read_csv('assets/landsat_testing.csv')\n",
    "\n",
    "from sklearn.preprocessing import LabelEncoder\n",
    "\n",
    "enc = LabelEncoder()\n",
    "df_train['class_code'] = enc.fit_transform(df_train['class'])\n",
    "df_test['class_code']  = enc.transform(df_test['class'])\n",
    "\n",
    "class_names = enc.classes_\n",
    "print(class_names)\n",
    "\n",
    "X_train = df_train.iloc[:,1:28]\n",
    "y_train = df_train['class_code']\n",
    "\n",
    "X_test = df_test.iloc[:,1:28]\n",
    "y_test = df_test['class_code']\n"
   ]
  },
  {
   "cell_type": "markdown",
   "metadata": {
    "deletable": false,
    "editable": false,
    "nbgrader": {
     "checksum": "cc1333984b3c637b51bdc6cf6bbd5ce4",
     "grade": false,
     "grade_id": "cell-0ad8bbcf6ece9180",
     "locked": true,
     "schema_version": 1,
     "solution": false
    }
   },
   "source": [
    "### Question 1. Basic decision trees (10 points)\n",
    "\n",
    "Using `X_train` and `y_train` from the preceeding cell, train a `DecisionTreeClassifier` with default parameters and `random_state=0`. What are the 5 most important features found by the decision tree?\n",
    "\n",
    "*Your function should return a tuple of length 5 of the feature names in descending order of importance.*"
   ]
  },
  {
   "cell_type": "code",
   "execution_count": null,
   "metadata": {
    "deletable": false,
    "nbgrader": {
     "checksum": "a247269ba9ef83b4866be2d6572da39e",
     "grade": false,
     "grade_id": "cell-ee22a662e4ae25de",
     "locked": false,
     "schema_version": 1,
     "solution": true
    }
   },
   "outputs": [],
   "source": [
    "from sklearn.tree import DecisionTreeClassifier\n",
    "\n",
    "def answer_one():\n",
    "    \n",
    "    clf = DecisionTreeClassifier(random_state=0).fit(X_train, y_train)\n",
    "    \n",
    "    top_five = clf.feature_importances_.argsort()[::-1][:5]   \n",
    "    features = X_train.columns[top_five]\n",
    "    \n",
    "    return tuple(features)"
   ]
  },
  {
   "cell_type": "code",
   "execution_count": null,
   "metadata": {
    "deletable": false,
    "editable": false,
    "nbgrader": {
     "checksum": "342073b576168d8e8da908b8f00e7469",
     "grade": true,
     "grade_id": "cell-fcc2ede23f97cdfd",
     "locked": true,
     "points": 10,
     "schema_version": 1,
     "solution": false
    }
   },
   "outputs": [],
   "source": [
    "# Autograder tests\n",
    "\n",
    "stu_ans = answer_one()\n",
    "\n",
    "assert isinstance(stu_ans, tuple), \"Q1: Your function should return a tuple. \"\n",
    "assert len(stu_ans) == 5, \"Q1: The length of your returned tuple should be 5. \"\n",
    "assert all([isinstance(item, str) for item in stu_ans]), \"Q1: Your tuple should only contain strings. \"\n",
    "\n",
    "\n",
    "del stu_ans"
   ]
  },
  {
   "cell_type": "markdown",
   "metadata": {
    "deletable": false,
    "editable": false,
    "nbgrader": {
     "checksum": "4605651c5563e169f43d18418a000641",
     "grade": false,
     "grade_id": "cell-f26f90427962c3f3",
     "locked": true,
     "schema_version": 1,
     "solution": false
    }
   },
   "source": [
    "### Question 2.  (10 points) \n",
    "\n",
    "One very important decision tree parameter that can have a significant effect on how much the data are overfit (or not) is the *maximum tree depth*. Increasing maximum tree depth may increase accuracy by allowing more complex decision rules involving more features, but also increases the potential for overfitting with deeper trees.\n",
    "\n",
    "Examine the effect of maximum tree depth on training and test set accuracy for a basic decision tree on this dataset. \n",
    "Return a list of `(train_score, test_score)` tuples for each possible maximum tree depth from 1 to 10.\n",
    "\n",
    "Use `random_state=0` for any calls involving randomization."
   ]
  },
  {
   "cell_type": "code",
   "execution_count": null,
   "metadata": {
    "deletable": false,
    "nbgrader": {
     "checksum": "8629a5c16b0a5b002e77366b00e61906",
     "grade": false,
     "grade_id": "cell-633602c9b38e2d91",
     "locked": false,
     "schema_version": 1,
     "solution": true
    }
   },
   "outputs": [],
   "source": [
    "def answer_two():  \n",
    "\n",
    "    results = []\n",
    "\n",
    "    for i in range(1, 11):\n",
    "\n",
    "        clf = DecisionTreeClassifier(max_depth = i, random_state=0).fit(X_train, y_train)\n",
    "\n",
    "        test_score = clf.score(X_test, y_test)\n",
    "        train_score = clf.score(X_train, y_train)\n",
    "\n",
    "        results.append((train_score, test_score))\n",
    "\n",
    "    return results"
   ]
  },
  {
   "cell_type": "code",
   "execution_count": null,
   "metadata": {
    "deletable": false,
    "editable": false,
    "nbgrader": {
     "checksum": "0ab1a8511db35819fe72f17987ad23c4",
     "grade": true,
     "grade_id": "cell-8208b681c03c5dcb",
     "locked": true,
     "points": 10,
     "schema_version": 1,
     "solution": false
    }
   },
   "outputs": [],
   "source": [
    "# Autograder tests\n",
    "\n",
    "stu_ans = answer_two()\n",
    "\n",
    "assert isinstance(stu_ans, list), \"Q2: Your function should return a list. \"\n",
    "assert len(stu_ans) == 10, \"Q2: The length of your returned list should be 10. \"\n",
    "assert all([isinstance(item, tuple) for item in stu_ans]), \"Q2: Your list should only contain tuples. \"\n",
    "\n",
    "del stu_ans"
   ]
  },
  {
   "cell_type": "markdown",
   "metadata": {
    "deletable": false,
    "editable": false,
    "nbgrader": {
     "checksum": "53f96e8b545f10564cb4b3f230fb6a4b",
     "grade": false,
     "grade_id": "cell-2dfcdbc06d67c88c",
     "locked": true,
     "schema_version": 1,
     "solution": false
    }
   },
   "source": [
    "Uncommenting the code below, take a look at the classification report for this GBDT model using the *test* set to evaluate. It is instructive to compare these results with the results from previous classifiers. "
   ]
  },
  {
   "cell_type": "code",
   "execution_count": null,
   "metadata": {},
   "outputs": [],
   "source": [
    "# Remember to comment them out before submitting the notebook\n",
    "\n",
    "# test_accs = [t for _, t in answer_two()]\n",
    "# best_tree_model = tree.DecisionTreeClassifier(random_state=0, max_depth=np.argmax(test_accs) + 1).fit(X_train, y_train)\n",
    "# y_pred = best_tree_model.predict(X_test)\n",
    "# print(classification_report(y_test, y_pred, target_names=class_names))\n",
    "# del test_accs, best_tree_model, y_pred"
   ]
  },
  {
   "cell_type": "markdown",
   "metadata": {
    "deletable": false,
    "editable": false,
    "nbgrader": {
     "checksum": "3f77384cb03561c760e77def8497b2a2",
     "grade": false,
     "grade_id": "cell-825b2bd8fe7a37e7",
     "locked": true,
     "schema_version": 1,
     "solution": false
    }
   },
   "source": [
    "### Question 3. Gradient-boosted decision trees (10 points)\n",
    "\n",
    "We're now going to apply GBDT to the same dataset to compare its performance with ordinary decision trees. Train a default GBDT and output the training and test scores (accuracy) in that order, as a float 2-tuple. (Use `random_state=0` for any randomized operations.)"
   ]
  },
  {
   "cell_type": "code",
   "execution_count": null,
   "metadata": {
    "deletable": false,
    "nbgrader": {
     "checksum": "0791c80600fe6466f6fe3f050cc878e0",
     "grade": false,
     "grade_id": "cell-629b34d2603111d0",
     "locked": false,
     "schema_version": 1,
     "solution": true
    }
   },
   "outputs": [],
   "source": [
    "from sklearn.ensemble import GradientBoostingClassifier\n",
    "\n",
    "def answer_three():\n",
    "    \n",
    "    clf = GradientBoostingClassifier(random_state=0).fit(X_train, y_train)\n",
    "    \n",
    "    test_score = clf.score(X_test, y_test)\n",
    "    train_score = clf.score(X_train, y_train)\n",
    "    \n",
    "    results = train_score, test_score\n",
    "    \n",
    "    return results"
   ]
  },
  {
   "cell_type": "code",
   "execution_count": null,
   "metadata": {
    "deletable": false,
    "editable": false,
    "nbgrader": {
     "checksum": "26bea53b7a74b7880e56414ad916496c",
     "grade": true,
     "grade_id": "cell-6028ee92780b1e5a",
     "locked": true,
     "points": 10,
     "schema_version": 1,
     "solution": false
    }
   },
   "outputs": [],
   "source": [
    "#Autograder tests\n",
    "\n",
    "stu_ans = answer_three()\n",
    "\n",
    "assert isinstance(stu_ans, tuple), \"Q3a: Your function should return a tuple. \"\n",
    "assert len(stu_ans) == 2, \"Q3a: The length of your returned tuple should be 2. \"\n",
    "assert all([isinstance(item, float) for item in stu_ans]), \"Q3a: Your tuple should only contain floats. \"\n",
    "\n",
    "del stu_ans"
   ]
  },
  {
   "cell_type": "markdown",
   "metadata": {
    "deletable": false,
    "editable": false,
    "nbgrader": {
     "checksum": "b393e51062b46858bdef16e013673eb7",
     "grade": false,
     "grade_id": "cell-ddaf00c64910a881",
     "locked": true,
     "schema_version": 1,
     "solution": false
    }
   },
   "source": [
    "## Part 2: Synthesis project"
   ]
  },
  {
   "cell_type": "markdown",
   "metadata": {
    "deletable": false,
    "editable": false,
    "nbgrader": {
     "checksum": "3db4dd15b26fb121cb5a9ee377ce8ed9",
     "grade": false,
     "grade_id": "cell-4998be9718b40d95",
     "locked": true,
     "schema_version": 1,
     "solution": false
    }
   },
   "source": [
    "### Question 1. City of Detroit Prediction Problem (70 points)\n",
    "\n",
    "The synthesis project is based on a data challenge from the Michigan Data Science Team ([MDST](http://midas.umich.edu/mdst/)). \n",
    "\n",
    "The Michigan Data Science Team ([MDST](http://midas.umich.edu/mdst/)) and the Michigan Student Symposium for Interdisciplinary Statistical Sciences ([MSSISS](https://sites.lsa.umich.edu/mssiss/)) have partnered with the City of Detroit to help solve one of the most pressing problems facing Detroit - building deterioration. [Blight violations](https://detroitmi.gov/departments/department-appeals-and-hearings/blight-ticket-information) are issued by the city to individuals who allow their properties to remain in a deteriorated condition. Every year, the city of Detroit issues millions of dollars in fines to residents and every year, many of these fines remain unpaid. Enforcing unpaid blight fines is a costly and tedious process, so the city wants to know: how can we increase blight ticket compliance?\n",
    "\n",
    "The first step in answering this question is understanding when and why a resident might fail to comply with a blight ticket. This is where predictive modeling comes in. For this assignment, your task is to predict whether a given blight ticket will be paid on time.\n",
    "\n",
    "All data for this assignment has been provided to us through the [Detroit Open Data Portal](https://data.detroitmi.gov/). **Only the data already included in your Coursera directory can be used for training the model for this assignment.** Nonetheless, we encourage you to look into data from other Detroit datasets to help inform feature creation and model selection. Some related datasets of interest include:\n",
    "\n",
    "* [Building Permits](https://data.detroitmi.gov/datasets/building-permits)\n",
    "* [Trades Permits](https://data.detroitmi.gov/datasets/trades-permits)\n",
    "* [Improve Detroit: Submitted Issues](https://data.detroitmi.gov/datasets/improve-detroit-issues)\n",
    "* [DPD: Citizen Complaints](https://data.detroitmi.gov/datasets/dpd-citizen-complaints)\n",
    "* [Parcel Data](https://data.detroitmi.gov/datasets/parcels-2)\n",
    "\n",
    "___\n",
    "\n",
    "We provide you with two data files for use in training and validating your models: train.csv and test.csv. Each row in these two files corresponds to a single blight ticket, and includes information about when, why, and to whom each ticket was issued. The target variable is compliance, which is True if the ticket was paid early, on time, or within one month of the hearing data, False if the ticket was paid after the hearing date or not at all, and Null if the violator was found not responsible. Compliance, as well as a handful of other variables that will not be available at test-time, are only included in train.csv.\n",
    "\n",
    "Note: All tickets where the violators were found not responsible are not considered during evaluation. They are included in the training set as an additional source of data for visualization, and to enable unsupervised and semi-supervised approaches. However, they are not included in the test set.\n",
    "\n",
    "<br>\n",
    "\n",
    "**File descriptions** (Use only this data for training your model!)\n",
    "\n",
    "    train.csv - the training set (all tickets issued 2004-2011)\n",
    "    test.csv - the test set (all tickets issued 2012-2016)\n",
    "    addresses.csv & latlons.csv - mapping from ticket id to addresses, and from addresses to lat/lon coordinates. \n",
    "     Note: misspelled addresses may be incorrectly geolocated.\n",
    "\n",
    "<br>\n",
    "\n",
    "**Data fields**\n",
    "\n",
    "train.csv & test.csv\n",
    "\n",
    "    ticket_id - unique identifier for tickets\n",
    "    agency_name - Agency that issued the ticket\n",
    "    inspector_name - Name of inspector that issued the ticket\n",
    "    violator_name - Name of the person/organization that the ticket was issued to\n",
    "    violation_street_number, violation_street_name, violation_zip_code - Address where the violation occurred\n",
    "    mailing_address_str_number, mailing_address_str_name, city, state, zip_code, non_us_str_code, country - Mailing address of the violator\n",
    "    ticket_issued_date - Date and time the ticket was issued\n",
    "    hearing_date - Date and time the violator's hearing was scheduled\n",
    "    violation_code, violation_description - Type of violation\n",
    "    disposition - Judgment and judgement type\n",
    "    fine_amount - Violation fine amount, excluding fees\n",
    "    admin_fee - $20 fee assigned to responsible judgments\n",
    "state_fee - $10 fee assigned to responsible judgments\n",
    "    late_fee - 10% fee assigned to responsible judgments\n",
    "    discount_amount - discount applied, if any\n",
    "    clean_up_cost - DPW clean-up or graffiti removal cost\n",
    "    judgment_amount - Sum of all fines and fees\n",
    "    grafitti_status - Flag for graffiti violations\n",
    "    \n",
    "train.csv only\n",
    "\n",
    "    payment_amount - Amount paid, if any\n",
    "    payment_date - Date payment was made, if it was received\n",
    "    payment_status - Current payment status as of Feb 1 2017\n",
    "    balance_due - Fines and fees still owed\n",
    "    collection_status - Flag for payments in collections\n",
    "    compliance [target variable for prediction] \n",
    "     Null = Not responsible\n",
    "     0 = Responsible, non-compliant\n",
    "     1 = Responsible, compliant\n",
    "    compliance_detail - More information on why each ticket was marked compliant or non-compliant\n",
    "\n",
    "\n",
    "___\n",
    "\n",
    "## Evaluation\n",
    "\n",
    "Your predictions will be given as the probability that the corresponding blight ticket will be paid on time.\n",
    "\n",
    "The evaluation metric for this assignment is the Area Under the ROC Curve (AUC). \n",
    "\n",
    "Your grade will be based on the AUC score computed for your classifier. A model which with an AUROC of 0.7 passes this assignment, over 0.75 will receive full points.\n",
    "___\n",
    "\n",
    "For this assignment, create a function that trains a model to predict blight ticket compliance in Detroit using `train.csv`. Using this model, return a series of length 61001 with the data being the probability that each corresponding ticket from `test.csv` will be paid, and the index being the ticket_id.\n",
    "\n",
    "Example:\n",
    "\n",
    "    ticket_id\n",
    "       284932    0.531842\n",
    "       285362    0.401958\n",
    "       285361    0.105928\n",
    "       285338    0.018572\n",
    "                 ...\n",
    "       376499    0.208567\n",
    "       376500    0.818759\n",
    "       369851    0.018528\n",
    "       Name: compliance, dtype: float32"
   ]
  },
  {
   "cell_type": "code",
   "execution_count": null,
   "metadata": {
    "deletable": false,
    "nbgrader": {
     "checksum": "385d11b89a2b6a5cf31888e28ecf5c49",
     "grade": false,
     "grade_id": "cell-0403b6daf0fe689f",
     "locked": false,
     "schema_version": 1,
     "solution": true
    }
   },
   "outputs": [],
   "source": [
    "import pandas as pd\n",
    "from sklearn.ensemble import RandomForestClassifier\n",
    "from sklearn.metrics import roc_auc_score\n",
    "from sklearn.model_selection import GridSearchCV\n",
    "\n",
    "def blight_model():\n",
    "    \n",
    "    # Load .csv's\n",
    "    initial_train_data = pd.read_csv('assets/train.csv')\n",
    "    initial_test_data = pd.read_csv('assets/test.csv')\n",
    "    addresses = pd.read_csv('assets/addresses.csv')\n",
    "    latlons = pd.read_csv('assets/latlons.csv')\n",
    "    \n",
    "    # Join address and latlons to train and test data\n",
    "    train_data = pd.merge(initial_train_data, pd.merge(addresses, latlons, on='address'), on='ticket_id')\n",
    "    test_data = pd.merge(initial_test_data, pd.merge(addresses, latlons, on='address'), on='ticket_id')\n",
    "    \n",
    "    # Filter necessary columns\n",
    "    cols = ['fine_amount', 'discount_amount', 'judgment_amount', 'lat', 'lon', 'compliance']\n",
    "    train_data = train_data[cols]\n",
    "    test_data = test_data[cols[:-1]]\n",
    "    \n",
    "    # Filter null compliance rows\n",
    "    train_data = train_data[train_data.compliance.notnull()]\n",
    "    \n",
    "    # Fill null data points\n",
    "    train_data = train_data.fillna(0)\n",
    "    test_data = test_data.fillna(0)\n",
    "    \n",
    "    # Create x/y train/test\n",
    "    X_train = train_data.iloc[:, :-1]\n",
    "    y_train = train_data['compliance']\n",
    "    X_test = test_data\n",
    "    \n",
    "    # Train model\n",
    "    model = RandomForestClassifier(random_state = 42)\n",
    "    grid = {'n_estimators': [100], 'max_depth': [10]}\n",
    "    grid_models = GridSearchCV(model, param_grid=grid, scoring='roc_auc')\n",
    "    grid_models.fit(X_train, y_train)\n",
    "\n",
    "    # Predict scores\n",
    "    y_scores = grid_models.best_estimator_.predict_proba(X_test)\n",
    "\n",
    "    rec = pd.DataFrame(y_scores[:, 1], initial_test_data.ticket_id)\n",
    "    \n",
    "    return rec.squeeze()"
   ]
  },
  {
   "cell_type": "code",
   "execution_count": null,
   "metadata": {
    "deletable": false,
    "editable": false,
    "nbgrader": {
     "checksum": "0636b38a1a5bab9dc0c089e502664348",
     "grade": true,
     "grade_id": "cell-00f2e580e64299b2",
     "locked": true,
     "points": 0,
     "schema_version": 1,
     "solution": false
    }
   },
   "outputs": [],
   "source": [
    "# Autograder tests - sanity checks; no points for passing this cell\n",
    "\n",
    "stu_ans = blight_model()\n",
    "\n",
    "assert isinstance(stu_ans, pd.Series), \"Your function should return a pd.Series. \"\n",
    "assert len(stu_ans) == 61001, \"Your series is of incorrect length. \"\n"
   ]
  },
  {
   "cell_type": "code",
   "execution_count": null,
   "metadata": {
    "deletable": false,
    "editable": false,
    "nbgrader": {
     "checksum": "638bd36bbabe9964b0668db452e90dc0",
     "grade": true,
     "grade_id": "cell-b75d744376ca0a85",
     "locked": true,
     "points": 14,
     "schema_version": 1,
     "solution": false
    }
   },
   "outputs": [],
   "source": [
    "# Hidden autograder tests - whether AUC >= 0.55\n"
   ]
  },
  {
   "cell_type": "code",
   "execution_count": null,
   "metadata": {
    "deletable": false,
    "editable": false,
    "nbgrader": {
     "checksum": "522adc2d5d47890d3bb263b0d88e113f",
     "grade": true,
     "grade_id": "cell-51c43ad464c6a07a",
     "locked": true,
     "points": 14,
     "schema_version": 1,
     "solution": false
    }
   },
   "outputs": [],
   "source": [
    "# Hidden autograder tests - whether AUC >= 0.6\n"
   ]
  },
  {
   "cell_type": "code",
   "execution_count": null,
   "metadata": {
    "deletable": false,
    "editable": false,
    "nbgrader": {
     "checksum": "fc44390e75e4a6f24e6e858a0dee3129",
     "grade": true,
     "grade_id": "cell-8013377ff7931f47",
     "locked": true,
     "points": 14,
     "schema_version": 1,
     "solution": false
    }
   },
   "outputs": [],
   "source": [
    "# Hidden autograder tests - whether AUC >= 0.65\n"
   ]
  },
  {
   "cell_type": "code",
   "execution_count": null,
   "metadata": {
    "deletable": false,
    "editable": false,
    "nbgrader": {
     "checksum": "0d07a6be49fe538514abe4e2b4ae19cd",
     "grade": true,
     "grade_id": "cell-ebe32e8d5f5255f3",
     "locked": true,
     "points": 14,
     "schema_version": 1,
     "solution": false
    }
   },
   "outputs": [],
   "source": [
    "# Hidden autograder tests - whether AUC >= 0.7\n"
   ]
  },
  {
   "cell_type": "code",
   "execution_count": null,
   "metadata": {
    "deletable": false,
    "editable": false,
    "nbgrader": {
     "checksum": "550d3f67dcc964d36260e419783e7a3b",
     "grade": true,
     "grade_id": "cell-ee59bccdda8ea14b",
     "locked": true,
     "points": 14,
     "schema_version": 1,
     "solution": false
    }
   },
   "outputs": [],
   "source": [
    "# Hidden autograder tests - whether AUC >= 0.75\n"
   ]
  }
 ],
 "metadata": {
  "anaconda-cloud": {},
  "coursera": {
   "schema_names": [
    "mads_supervised_learning_v2_assignment4"
   ]
  },
  "kernelspec": {
   "display_name": "Python 3",
   "language": "python",
   "name": "python3"
  },
  "language_info": {
   "codemirror_mode": {
    "name": "ipython",
    "version": 3
   },
   "file_extension": ".py",
   "mimetype": "text/x-python",
   "name": "python",
   "nbconvert_exporter": "python",
   "pygments_lexer": "ipython3",
   "version": "3.8.5"
  }
 },
 "nbformat": 4,
 "nbformat_minor": 4
}
